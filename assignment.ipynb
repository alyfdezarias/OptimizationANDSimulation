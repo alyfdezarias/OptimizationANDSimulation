{
 "cells": [
  {
   "cell_type": "markdown",
   "metadata": {},
   "source": [
    "# Assignment Problem\n",
    "The assignment problem is a fundamental combinatorial optimization problem. Given the custom structure of its constraints matrix is possible to solve it in a polynomial time using the Hungarian Algorithm.\n",
    "\n",
    "Given a set of $n$ agents, a set of $n$ tasks and the cost $c_{ij}$ related to assign the agent $i$ to the task $j$. The goal is to find a minimun assigment cost such that each agent is assigned to one task and each task is performed by one agent.\n",
    "\n",
    "![assignment problem](img/assigment.png)\n",
    "\n",
    "Consider the follwing problem:\n",
    "\n",
    "|-| **Task A** | **Task B** | **Task C** | **Task D** |\n",
    "|--| --| --|--|--|\n",
    "|**Machine 1**| 1 |4 |6|3|\n",
    "|**Machine 2**| 9 |7 |10|9|\n",
    "|**Machine 3**| 4 |5 |11|7|\n",
    "|**Machine 4**| 8 |7 |8|5|\n",
    "\n",
    "This is the [input data file](assigndata.dat) for the previous example."
   ]
  },
  {
   "cell_type": "code",
   "execution_count": 1,
   "metadata": {},
   "outputs": [
    {
     "name": "stdout",
     "output_type": "stream",
     "text": [
      "optimal solution\n",
      "task 0 to machine 0\n",
      "task 1 to machine 2\n",
      "task 2 to machine 1\n",
      "task 3 to machine 3\n",
      "cost=21\n"
     ]
    }
   ],
   "source": [
    "import os\n",
    "import assignment as asg\n",
    "from scipy.optimize import linear_sum_assignment\n",
    "\n",
    "prob = asg.loadProblemFromFile(\"assigndata.dat\")\n",
    "sol = linear_sum_assignment(prob) #this method is available on scipy.optimize\n",
    "asg.printOptimalSolution(sol, prob)\n"
   ]
  }
 ],
 "metadata": {
  "kernelspec": {
   "display_name": "Python 3",
   "language": "python",
   "name": "python3"
  },
  "language_info": {
   "codemirror_mode": {
    "name": "ipython",
    "version": 3
   },
   "file_extension": ".py",
   "mimetype": "text/x-python",
   "name": "python",
   "nbconvert_exporter": "python",
   "pygments_lexer": "ipython3",
   "version": "3.6.6"
  }
 },
 "nbformat": 4,
 "nbformat_minor": 2
}

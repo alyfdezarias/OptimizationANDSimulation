{
 "cells": [
  {
   "cell_type": "markdown",
   "metadata": {},
   "source": [
    "# Transportation Problem\n",
    "\n",
    "The transportation problem is a special type of linear programming problem where the objective is to minimise the cost of distributing a product from a number of sources or origins to a number of destinations.\n",
    "\n",
    "![transportation problem](img/transportation.png)\n",
    "\n",
    "Given the special structure of the constraints matrix it is developed a custom procedure (base on Simplex) for its solution.\n",
    "\n",
    "### Transportation Procedure\n",
    "1. Balance the problem (the supply must be equal to the demand)\n",
    "2. Find a basic feasible solution (it is used the **Northwest Corner Procedure**)\n",
    "3. Calculated the marginal cost relating to the supply and the demand\n",
    "4. Evaluate the optimality condition\n",
    "5. If the solution is optimal, then STOP, if not go to the improvement step\n",
    "6. Improvement step: select the entering and leaving variables and update the flow between the supply and the demand. Go to step 3.\n",
    "\n",
    "An academic version of this procedure is provided in [Academic Transportation Problem](transportation.py). \n",
    "\n",
    "Consider the ffollwing problem:\n",
    "\n",
    "|-| **1** | **2** | **3** | **4** | **Supply** |\n",
    "|--| --| --|--|--|--|\n",
    "|**A**| 10 |2 |20|11|15|\n",
    "|**B**| 12 |7 |9|20|25|\n",
    "|**C**| 4 |14 |16|18|10|\n",
    "|**Demand**| 5 |15 |15|15| -|\n",
    "\n",
    "This is the [input data file](transdata.dat) for the previous example."
   ]
  },
  {
   "cell_type": "code",
   "execution_count": 4,
   "metadata": {},
   "outputs": [
    {
     "name": "stdout",
     "output_type": "stream",
     "text": [
      "from 0 to 1 flow=5\n",
      "from 0 to 3 flow=10\n",
      "from 1 to 1 flow=10\n",
      "from 1 to 2 flow=15\n",
      "from 2 to 0 flow=5\n",
      "from 2 to 3 flow=5\n",
      "cost=435\n"
     ]
    }
   ],
   "source": [
    "import os\n",
    "import transportation as tp\n",
    "prob = tp.loadQueueProblemFromFile(\"transdata.dat\")\n",
    "sol = tp.solve(prob)\n",
    "tp.printSolution(sol)\n",
    "print(f\"cost={tp.getCost(prob, sol)}\")"
   ]
  }
 ],
 "metadata": {
  "kernelspec": {
   "display_name": "Python 3",
   "language": "python",
   "name": "python3"
  },
  "language_info": {
   "codemirror_mode": {
    "name": "ipython",
    "version": 3
   },
   "file_extension": ".py",
   "mimetype": "text/x-python",
   "name": "python",
   "nbconvert_exporter": "python",
   "pygments_lexer": "ipython3",
   "version": "3.6.6"
  }
 },
 "nbformat": 4,
 "nbformat_minor": 2
}
